{
 "cells": [
  {
   "cell_type": "code",
   "execution_count": 3,
   "id": "1cf23dbf-8a9e-4170-b45c-6fd70f298c28",
   "metadata": {},
   "outputs": [],
   "source": [
    "#This project is ML Model (ML Classifier)\n",
    "#Dataset is Breast Cancer dataset from Breast cancer Wisconsin (Diagnostic)\n",
    "#Scikit-learn library will be used\n",
    "#Naive Bayes is used to predict if a tumor is malignant or benign\n",
    "\n",
    "import sklearn"
   ]
  },
  {
   "cell_type": "code",
   "execution_count": 9,
   "id": "01a5c747-6512-4ec5-9e27-886a98bbd1c6",
   "metadata": {},
   "outputs": [],
   "source": [
    "#Import necessary libraries\n",
    "\n",
    "from sklearn.datasets import load_breast_cancer\n",
    "from sklearn.model_selection import train_test_split\n",
    "from sklearn.naive_bayes import GaussianNB\n",
    "from sklearn.metrics import accuracy_score, classification_report, confusion_matrix"
   ]
  },
  {
   "cell_type": "code",
   "execution_count": 13,
   "id": "ac320d23-741c-4c36-8660-a47e0cfc1ba8",
   "metadata": {},
   "outputs": [],
   "source": [
    "# Load the dataset\n",
    "data = load_breast_cancer()\n",
    "X = data.data\n",
    "y = data.target"
   ]
  },
  {
   "cell_type": "code",
   "execution_count": 15,
   "id": "48078340-e34d-497a-9e1c-3162063a4730",
   "metadata": {},
   "outputs": [
    {
     "name": "stdout",
     "output_type": "stream",
     "text": [
      "   mean radius  mean texture  mean perimeter  mean area  mean smoothness  \\\n",
      "0        17.99         10.38          122.80     1001.0          0.11840   \n",
      "1        20.57         17.77          132.90     1326.0          0.08474   \n",
      "2        19.69         21.25          130.00     1203.0          0.10960   \n",
      "3        11.42         20.38           77.58      386.1          0.14250   \n",
      "4        20.29         14.34          135.10     1297.0          0.10030   \n",
      "\n",
      "   mean compactness  mean concavity  mean concave points  mean symmetry  \\\n",
      "0           0.27760          0.3001              0.14710         0.2419   \n",
      "1           0.07864          0.0869              0.07017         0.1812   \n",
      "2           0.15990          0.1974              0.12790         0.2069   \n",
      "3           0.28390          0.2414              0.10520         0.2597   \n",
      "4           0.13280          0.1980              0.10430         0.1809   \n",
      "\n",
      "   mean fractal dimension  ...  worst texture  worst perimeter  worst area  \\\n",
      "0                 0.07871  ...          17.33           184.60      2019.0   \n",
      "1                 0.05667  ...          23.41           158.80      1956.0   \n",
      "2                 0.05999  ...          25.53           152.50      1709.0   \n",
      "3                 0.09744  ...          26.50            98.87       567.7   \n",
      "4                 0.05883  ...          16.67           152.20      1575.0   \n",
      "\n",
      "   worst smoothness  worst compactness  worst concavity  worst concave points  \\\n",
      "0            0.1622             0.6656           0.7119                0.2654   \n",
      "1            0.1238             0.1866           0.2416                0.1860   \n",
      "2            0.1444             0.4245           0.4504                0.2430   \n",
      "3            0.2098             0.8663           0.6869                0.2575   \n",
      "4            0.1374             0.2050           0.4000                0.1625   \n",
      "\n",
      "   worst symmetry  worst fractal dimension  target  \n",
      "0          0.4601                  0.11890       0  \n",
      "1          0.2750                  0.08902       0  \n",
      "2          0.3613                  0.08758       0  \n",
      "3          0.6638                  0.17300       0  \n",
      "4          0.2364                  0.07678       0  \n",
      "\n",
      "[5 rows x 31 columns]\n"
     ]
    }
   ],
   "source": [
    "from sklearn.datasets import load_breast_cancer\n",
    "import pandas as pd\n",
    "\n",
    "# Load the dataset\n",
    "data = load_breast_cancer()\n",
    "\n",
    "# Convert to DataFrame\n",
    "df = pd.DataFrame(data.data, columns=data.feature_names)\n",
    "\n",
    "# Add the target column\n",
    "df['target'] = data.target\n",
    "\n",
    "# View the first 5 rows\n",
    "print(df.head())"
   ]
  },
  {
   "cell_type": "code",
   "execution_count": 17,
   "id": "c0d36e96-da92-4b8d-8333-e12ed6b72e5d",
   "metadata": {},
   "outputs": [],
   "source": [
    "# Split dataset into training and testing sets\n",
    "X_train, X_test, y_train, y_test = train_test_split(\n",
    "    X, y, test_size=0.2, random_state=42\n",
    ")"
   ]
  },
  {
   "cell_type": "code",
   "execution_count": 35,
   "id": "bc92b58a-559d-4e92-bec7-8cadf4d6cb93",
   "metadata": {},
   "outputs": [
    {
     "name": "stdout",
     "output_type": "stream",
     "text": [
      "Total records: 569\n",
      "Training set size: 455\n",
      "Testing set size: 114\n"
     ]
    }
   ],
   "source": [
    "#This show the number of records in each set\n",
    "\n",
    "print(\"Total records:\", len(X))\n",
    "print(\"Training set size:\", len(X_train))\n",
    "print(\"Testing set size:\", len(X_test))"
   ]
  },
  {
   "cell_type": "code",
   "execution_count": 37,
   "id": "e34dfc2c-6287-4cd5-b3af-65e1bbdcad43",
   "metadata": {},
   "outputs": [
    {
     "name": "stdout",
     "output_type": "stream",
     "text": [
      "Training set sample:\n",
      "   mean radius  mean texture  mean perimeter  mean area  mean smoothness  \\\n",
      "0        9.029         17.33           58.79      250.5          0.10660   \n",
      "1       21.090         26.57          142.70     1311.0          0.11410   \n",
      "2        9.173         13.86           59.20      260.9          0.07721   \n",
      "3       10.650         25.22           68.01      347.0          0.09657   \n",
      "4       10.170         14.88           64.55      311.9          0.11340   \n",
      "\n",
      "   mean compactness  mean concavity  mean concave points  mean symmetry  \\\n",
      "0           0.14130         0.31300              0.04375         0.2111   \n",
      "1           0.28320         0.24870              0.14960         0.2395   \n",
      "2           0.08751         0.05988              0.02180         0.2341   \n",
      "3           0.07234         0.02379              0.01615         0.1897   \n",
      "4           0.08061         0.01084              0.01290         0.2743   \n",
      "\n",
      "   mean fractal dimension  ...  worst radius  worst texture  worst perimeter  \\\n",
      "0                 0.08046  ...         10.31          22.65            65.50   \n",
      "1                 0.07398  ...         26.68          33.48           176.50   \n",
      "2                 0.06963  ...         10.01          19.23            65.59   \n",
      "3                 0.06329  ...         12.25          35.19            77.98   \n",
      "4                 0.06960  ...         11.02          17.45            69.86   \n",
      "\n",
      "   worst area  worst smoothness  worst compactness  worst concavity  \\\n",
      "0       324.7           0.14820            0.43650          1.25200   \n",
      "1      2089.0           0.14910            0.75840          0.67800   \n",
      "2       310.1           0.09836            0.16780          0.13970   \n",
      "3       455.7           0.14990            0.13980          0.11250   \n",
      "4       368.6           0.12750            0.09866          0.02168   \n",
      "\n",
      "   worst concave points  worst symmetry  worst fractal dimension  \n",
      "0               0.17500          0.4228                  0.11750  \n",
      "1               0.29030          0.4098                  0.12840  \n",
      "2               0.05087          0.3282                  0.08490  \n",
      "3               0.06136          0.3409                  0.08147  \n",
      "4               0.02579          0.3557                  0.08020  \n",
      "\n",
      "[5 rows x 30 columns]\n",
      "\n",
      "Test set sample:\n",
      "   mean radius  mean texture  mean perimeter  mean area  mean smoothness  \\\n",
      "0        12.47         18.60           81.09      481.9          0.09965   \n",
      "1        18.94         21.31          123.60     1130.0          0.09009   \n",
      "2        15.46         19.48          101.70      748.9          0.10920   \n",
      "3        12.40         17.68           81.47      467.8          0.10540   \n",
      "4        11.54         14.44           74.65      402.9          0.09984   \n",
      "\n",
      "   mean compactness  mean concavity  mean concave points  mean symmetry  \\\n",
      "0            0.1058         0.08005              0.03821         0.1925   \n",
      "1            0.1029         0.10800              0.07951         0.1582   \n",
      "2            0.1223         0.14660              0.08087         0.1931   \n",
      "3            0.1316         0.07741              0.02799         0.1811   \n",
      "4            0.1120         0.06737              0.02594         0.1818   \n",
      "\n",
      "   mean fractal dimension  ...  worst radius  worst texture  worst perimeter  \\\n",
      "0                 0.06373  ...         14.97          24.64            96.05   \n",
      "1                 0.05461  ...         24.86          26.58           165.90   \n",
      "2                 0.05796  ...         19.26          26.00           124.90   \n",
      "3                 0.07102  ...         12.88          22.91            89.61   \n",
      "4                 0.06782  ...         12.26          19.68            78.78   \n",
      "\n",
      "   worst area  worst smoothness  worst compactness  worst concavity  \\\n",
      "0       677.9            0.1426             0.2378           0.2671   \n",
      "1      1866.0            0.1193             0.2336           0.2687   \n",
      "2      1156.0            0.1546             0.2394           0.3791   \n",
      "3       515.8            0.1450             0.2629           0.2403   \n",
      "4       457.8            0.1345             0.2118           0.1797   \n",
      "\n",
      "   worst concave points  worst symmetry  worst fractal dimension  \n",
      "0               0.10150          0.3014                  0.08750  \n",
      "1               0.17890          0.2551                  0.06589  \n",
      "2               0.15140          0.2837                  0.08019  \n",
      "3               0.07370          0.2556                  0.09359  \n",
      "4               0.06918          0.2329                  0.08134  \n",
      "\n",
      "[5 rows x 30 columns]\n"
     ]
    }
   ],
   "source": [
    "# Show first 5 rows of the training set\n",
    "print(\"Training set sample:\")\n",
    "print(pd.DataFrame(X_train, columns=data.feature_names).head())\n",
    "\n",
    "# Show first 5 rows of the test set\n",
    "print(\"\\nTest set sample:\")\n",
    "print(pd.DataFrame(X_test, columns=data.feature_names).head())"
   ]
  },
  {
   "cell_type": "code",
   "execution_count": 39,
   "id": "44ea1e4b-3773-4915-9e7c-e7994f5bad58",
   "metadata": {},
   "outputs": [
    {
     "name": "stdout",
     "output_type": "stream",
     "text": [
      "Training labels distribution: [169 286]\n",
      "Testing labels distribution: [43 71]\n"
     ]
    }
   ],
   "source": [
    "#To check the class distribution in the training and test sets\n",
    "\n",
    "import numpy as np\n",
    "\n",
    "print(\"Training labels distribution:\", np.bincount(y_train))\n",
    "print(\"Testing labels distribution:\", np.bincount(y_test))"
   ]
  },
  {
   "cell_type": "code",
   "execution_count": 19,
   "id": "b625e985-3a74-4ce8-a83d-cfb23ccacbf6",
   "metadata": {},
   "outputs": [],
   "source": [
    "# Initialize the Naive Bayes classifier\n",
    "model = GaussianNB()"
   ]
  },
  {
   "cell_type": "code",
   "execution_count": 21,
   "id": "2a4fd8dc-7318-4018-bb5f-b1e586233232",
   "metadata": {},
   "outputs": [
    {
     "data": {
      "text/html": [
       "<style>#sk-container-id-1 {color: black;background-color: white;}#sk-container-id-1 pre{padding: 0;}#sk-container-id-1 div.sk-toggleable {background-color: white;}#sk-container-id-1 label.sk-toggleable__label {cursor: pointer;display: block;width: 100%;margin-bottom: 0;padding: 0.3em;box-sizing: border-box;text-align: center;}#sk-container-id-1 label.sk-toggleable__label-arrow:before {content: \"▸\";float: left;margin-right: 0.25em;color: #696969;}#sk-container-id-1 label.sk-toggleable__label-arrow:hover:before {color: black;}#sk-container-id-1 div.sk-estimator:hover label.sk-toggleable__label-arrow:before {color: black;}#sk-container-id-1 div.sk-toggleable__content {max-height: 0;max-width: 0;overflow: hidden;text-align: left;background-color: #f0f8ff;}#sk-container-id-1 div.sk-toggleable__content pre {margin: 0.2em;color: black;border-radius: 0.25em;background-color: #f0f8ff;}#sk-container-id-1 input.sk-toggleable__control:checked~div.sk-toggleable__content {max-height: 200px;max-width: 100%;overflow: auto;}#sk-container-id-1 input.sk-toggleable__control:checked~label.sk-toggleable__label-arrow:before {content: \"▾\";}#sk-container-id-1 div.sk-estimator input.sk-toggleable__control:checked~label.sk-toggleable__label {background-color: #d4ebff;}#sk-container-id-1 div.sk-label input.sk-toggleable__control:checked~label.sk-toggleable__label {background-color: #d4ebff;}#sk-container-id-1 input.sk-hidden--visually {border: 0;clip: rect(1px 1px 1px 1px);clip: rect(1px, 1px, 1px, 1px);height: 1px;margin: -1px;overflow: hidden;padding: 0;position: absolute;width: 1px;}#sk-container-id-1 div.sk-estimator {font-family: monospace;background-color: #f0f8ff;border: 1px dotted black;border-radius: 0.25em;box-sizing: border-box;margin-bottom: 0.5em;}#sk-container-id-1 div.sk-estimator:hover {background-color: #d4ebff;}#sk-container-id-1 div.sk-parallel-item::after {content: \"\";width: 100%;border-bottom: 1px solid gray;flex-grow: 1;}#sk-container-id-1 div.sk-label:hover label.sk-toggleable__label {background-color: #d4ebff;}#sk-container-id-1 div.sk-serial::before {content: \"\";position: absolute;border-left: 1px solid gray;box-sizing: border-box;top: 0;bottom: 0;left: 50%;z-index: 0;}#sk-container-id-1 div.sk-serial {display: flex;flex-direction: column;align-items: center;background-color: white;padding-right: 0.2em;padding-left: 0.2em;position: relative;}#sk-container-id-1 div.sk-item {position: relative;z-index: 1;}#sk-container-id-1 div.sk-parallel {display: flex;align-items: stretch;justify-content: center;background-color: white;position: relative;}#sk-container-id-1 div.sk-item::before, #sk-container-id-1 div.sk-parallel-item::before {content: \"\";position: absolute;border-left: 1px solid gray;box-sizing: border-box;top: 0;bottom: 0;left: 50%;z-index: -1;}#sk-container-id-1 div.sk-parallel-item {display: flex;flex-direction: column;z-index: 1;position: relative;background-color: white;}#sk-container-id-1 div.sk-parallel-item:first-child::after {align-self: flex-end;width: 50%;}#sk-container-id-1 div.sk-parallel-item:last-child::after {align-self: flex-start;width: 50%;}#sk-container-id-1 div.sk-parallel-item:only-child::after {width: 0;}#sk-container-id-1 div.sk-dashed-wrapped {border: 1px dashed gray;margin: 0 0.4em 0.5em 0.4em;box-sizing: border-box;padding-bottom: 0.4em;background-color: white;}#sk-container-id-1 div.sk-label label {font-family: monospace;font-weight: bold;display: inline-block;line-height: 1.2em;}#sk-container-id-1 div.sk-label-container {text-align: center;}#sk-container-id-1 div.sk-container {/* jupyter's `normalize.less` sets `[hidden] { display: none; }` but bootstrap.min.css set `[hidden] { display: none !important; }` so we also need the `!important` here to be able to override the default hidden behavior on the sphinx rendered scikit-learn.org. See: https://github.com/scikit-learn/scikit-learn/issues/21755 */display: inline-block !important;position: relative;}#sk-container-id-1 div.sk-text-repr-fallback {display: none;}</style><div id=\"sk-container-id-1\" class=\"sk-top-container\"><div class=\"sk-text-repr-fallback\"><pre>GaussianNB()</pre><b>In a Jupyter environment, please rerun this cell to show the HTML representation or trust the notebook. <br />On GitHub, the HTML representation is unable to render, please try loading this page with nbviewer.org.</b></div><div class=\"sk-container\" hidden><div class=\"sk-item\"><div class=\"sk-estimator sk-toggleable\"><input class=\"sk-toggleable__control sk-hidden--visually\" id=\"sk-estimator-id-1\" type=\"checkbox\" checked><label for=\"sk-estimator-id-1\" class=\"sk-toggleable__label sk-toggleable__label-arrow\">GaussianNB</label><div class=\"sk-toggleable__content\"><pre>GaussianNB()</pre></div></div></div></div></div>"
      ],
      "text/plain": [
       "GaussianNB()"
      ]
     },
     "execution_count": 21,
     "metadata": {},
     "output_type": "execute_result"
    }
   ],
   "source": [
    "# Train the model\n",
    "model.fit(X_train, y_train)"
   ]
  },
  {
   "cell_type": "code",
   "execution_count": 23,
   "id": "ed580172-adc3-4719-b986-86cd13b0ffeb",
   "metadata": {},
   "outputs": [],
   "source": [
    "# Make predictions\n",
    "y_pred = model.predict(X_test)"
   ]
  },
  {
   "cell_type": "code",
   "execution_count": 27,
   "id": "e0c02322-b8bc-408b-b0c3-c30275279d12",
   "metadata": {},
   "outputs": [
    {
     "name": "stdout",
     "output_type": "stream",
     "text": [
      "   actual  predicted\n",
      "0       1          1\n",
      "1       0          0\n",
      "2       0          0\n",
      "3       1          1\n",
      "4       1          1\n",
      "5       0          0\n",
      "6       0          0\n",
      "7       0          0\n",
      "8       1          1\n",
      "9       1          1\n"
     ]
    }
   ],
   "source": [
    "#To see the predictions made\n",
    "\n",
    "# Create DataFrame of test features\n",
    "results = pd.DataFrame(X_test, columns=data.feature_names)\n",
    "\n",
    "# Add actual and predicted labels\n",
    "results['actual'] = y_test\n",
    "results['predicted'] = y_pred\n",
    "\n",
    "# Show first 10 results\n",
    "print(results[['actual', 'predicted']].head(10))"
   ]
  },
  {
   "cell_type": "code",
   "execution_count": 31,
   "id": "64cde111-b1ec-46de-9d07-d1161e88ca06",
   "metadata": {},
   "outputs": [
    {
     "name": "stdout",
     "output_type": "stream",
     "text": [
      "match\n",
      "True     111\n",
      "False      3\n",
      "Name: count, dtype: int64\n"
     ]
    }
   ],
   "source": [
    "#To check predicted correctly and incorrectly\n",
    "\n",
    "results['match'] = results['actual'] == results['predicted']\n",
    "print(results['match'].value_counts())"
   ]
  },
  {
   "cell_type": "code",
   "execution_count": 33,
   "id": "928c79d9-8f36-48c8-919a-9fa17dd1e199",
   "metadata": {},
   "outputs": [
    {
     "name": "stdout",
     "output_type": "stream",
     "text": [
      "Accuracy: 0.9736842105263158\n",
      "Confusion Matrix:\n",
      " [[40  3]\n",
      " [ 0 71]]\n",
      "Classification Report:\n",
      "               precision    recall  f1-score   support\n",
      "\n",
      "           0       1.00      0.93      0.96        43\n",
      "           1       0.96      1.00      0.98        71\n",
      "\n",
      "    accuracy                           0.97       114\n",
      "   macro avg       0.98      0.97      0.97       114\n",
      "weighted avg       0.97      0.97      0.97       114\n",
      "\n"
     ]
    }
   ],
   "source": [
    "# This evaluate the model\n",
    "print(\"Accuracy:\", accuracy_score(y_test, y_pred))\n",
    "print(\"Confusion Matrix:\\n\", confusion_matrix(y_test, y_pred))\n",
    "print(\"Classification Report:\\n\", classification_report(y_test, y_pred))"
   ]
  }
 ],
 "metadata": {
  "kernelspec": {
   "display_name": "Python 3 (ipykernel)",
   "language": "python",
   "name": "python3"
  },
  "language_info": {
   "codemirror_mode": {
    "name": "ipython",
    "version": 3
   },
   "file_extension": ".py",
   "mimetype": "text/x-python",
   "name": "python",
   "nbconvert_exporter": "python",
   "pygments_lexer": "ipython3",
   "version": "3.11.5"
  }
 },
 "nbformat": 4,
 "nbformat_minor": 5
}
